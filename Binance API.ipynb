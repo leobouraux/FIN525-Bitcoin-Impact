{
 "cells": [
  {
   "cell_type": "markdown",
   "metadata": {},
   "source": [
    "# Binance API\n",
    "\n",
    "https://python-binance.readthedocs.io/en/latest/binance.html"
   ]
  },
  {
   "cell_type": "code",
   "execution_count": 1,
   "metadata": {},
   "outputs": [],
   "source": [
    "import requests, os, json, time, sys, calendar\n",
    "import pandas as pd\n",
    "from datetime import datetime, timedelta"
   ]
  },
  {
   "cell_type": "code",
   "execution_count": null,
   "metadata": {},
   "outputs": [],
   "source": []
  },
  {
   "cell_type": "code",
   "execution_count": 2,
   "metadata": {},
   "outputs": [
    {
     "data": {
      "text/plain": [
       "{'lastUpdateId': 7778139922,\n",
       " 'bids': [['32085.09000000', '0.05053400'],\n",
       "  ['32084.79000000', '0.17516600'],\n",
       "  ['32084.23000000', '0.40000000'],\n",
       "  ['32084.00000000', '0.40000000'],\n",
       "  ['32082.63000000', '0.14648200']],\n",
       " 'asks': [['32085.74000000', '0.00200000'],\n",
       "  ['32094.57000000', '0.00060400'],\n",
       "  ['32094.58000000', '0.00578300'],\n",
       "  ['32097.16000000', '0.34091000'],\n",
       "  ['32097.21000000', '0.01296400']]}"
      ]
     },
     "execution_count": 2,
     "metadata": {},
     "output_type": "execute_result"
    }
   ],
   "source": [
    "r = requests.get(\"https://api.binance.com/api/v3/depth\",\n",
    "                 params = {\"symbol\": 'BTCUSDT', \"limit\": 5})\n",
    "r.json()"
   ]
  },
  {
   "cell_type": "code",
   "execution_count": 3,
   "metadata": {},
   "outputs": [
    {
     "data": {
      "text/plain": [
       "{'symbol': 'BTCUSDT',\n",
       " 'bidPrice': '32094.02000000',\n",
       " 'bidQty': '0.45422400',\n",
       " 'askPrice': '32100.00000000',\n",
       " 'askQty': '2.20726000'}"
      ]
     },
     "execution_count": 3,
     "metadata": {},
     "output_type": "execute_result"
    }
   ],
   "source": [
    "r = requests.get(\"https://api.binance.com/api/v3/ticker/bookTicker\",\n",
    "                 params = {\"symbol\": 'BTCUSDT'})\n",
    "r.json()"
   ]
  },
  {
   "cell_type": "code",
   "execution_count": null,
   "metadata": {},
   "outputs": [],
   "source": []
  },
  {
   "cell_type": "code",
   "execution_count": 4,
   "metadata": {},
   "outputs": [],
   "source": [
    "def print_state(df, from_date, current_date, current_date2, to_date):\n",
    "    print('•', round(100*(current_date-from_date)/(to_date-from_date), 2),\n",
    "                  '%  • Total nb trades fetched: ' , len(df),\n",
    "                  '  • Last date: ', current_date2 ,sep='', end='\\r')\n",
    "    \n",
    "# get the 100th trade instead of the first for sanity reason\n",
    "def get_date_of_first_trade(symbol):\n",
    "    r = requests.get('https://api.binance.com/api/v3/klines', \n",
    "    params = {\"symbol\" : symbol, \"interval\": '1d',\n",
    "              \"startTime\": 0, \"limit\":100})        \n",
    "\n",
    "    response = r.json()\n",
    "    df = pd.DataFrame(response)\n",
    "    return datetime.utcfromtimestamp((df.iloc[99][0])/1000.0)\n",
    "\n",
    "def get_unix_ms_from_date(date):\n",
    "    return int(calendar.timegm(date.timetuple()) * 1000 + date.microsecond/1000)\n",
    "\n",
    "def get_first_trade_id_from_start_date(symbol, from_date, delta=1):    \n",
    "    #small delta since the 1000 trades kept are the last 1000\n",
    "    new_end_date = from_date + timedelta(seconds=delta)\n",
    "    r = requests.get('https://api.binance.com/api/v3/aggTrades', \n",
    "        params = {\"symbol\" : symbol, \"startTime\": get_unix_ms_from_date(from_date),\n",
    "                  \"endTime\": get_unix_ms_from_date(new_end_date), \"limit\":1000})        \n",
    "    #print(r.url)\n",
    "    if r.status_code != 200:\n",
    "        print('somethings wrong!', r.status_code)\n",
    "        print('sleeping for 10s... will retry')\n",
    "        time.sleep(10)\n",
    "        return get_first_trade_id_from_start_date(symbol, from_date)\n",
    "        \n",
    "    response = r.json()\n",
    "    \n",
    "    if(response==[]):\n",
    "        print('no trade in the range, increase end date')\n",
    "        return get_first_trade_id_from_start_date(symbol, from_date, delta+5)\n",
    "        \n",
    "    df = pd.DataFrame(response)\n",
    "    if len(df) > 0: return df.iloc[0]['a']\n",
    "    else: raise Exception('no trades found')"
   ]
  },
  {
   "cell_type": "code",
   "execution_count": 5,
   "metadata": {},
   "outputs": [],
   "source": [
    "# requests are limited to 1000 trades --> We fetch in packets of 1000 and remove the extras\n",
    "def fetch_trades(symbol, from_date, to_date, save=False):\n",
    "    \n",
    "    genesis_trade = get_date_of_first_trade(symbol)\n",
    "    if from_date<genesis_trade:\n",
    "        delta=to_date-from_date\n",
    "        from_date=genesis_trade\n",
    "        to_date=from_date+delta\n",
    "    \n",
    "    if to_date<from_date:\n",
    "        print('Error: to_date < from_date')\n",
    "        return None\n",
    "    \n",
    "    from_id = get_first_trade_id_from_start_date(symbol, from_date)\n",
    "    current_time = 0\n",
    "    df = pd.DataFrame()\n",
    "    \n",
    "    while current_time < get_unix_ms_from_date(to_date):\n",
    "        try:\n",
    "            r = requests.get(\"https://api.binance.com/api/v3/aggTrades\",\n",
    "                             params = {\"symbol\": symbol, \"limit\": 1000, \"fromId\": from_id})\n",
    "            #print(r.url)\n",
    "            if r.status_code != 200: \n",
    "                retry(r, get_historical_trades(symbol, from_id))\n",
    "                print('somethings wrong!', r.status_code)\n",
    "                print('sleeping for 10s... will retry')\n",
    "                time.sleep(10)\n",
    "                get_historical_trades(symbol, from_id)\n",
    "        \n",
    "            trades = r.json()\n",
    "            \n",
    "            # get last trade id to continue here on next loop\n",
    "            from_id = trades[-1]['a']\n",
    "            current_time = trades[-1]['T']\n",
    "            current_date = datetime.utcfromtimestamp(current_time/1000.0)\n",
    "            df = pd.concat([df, pd.DataFrame(trades)])\n",
    "            \n",
    "            print_state(df, from_date, current_date, current_date, to_date)\n",
    "\n",
    "            #dont exceed request limits\n",
    "            time.sleep(0.2)\n",
    "        except Exception:\n",
    "            print('somethings wrong....... sleeping for 15s')\n",
    "            time.sleep(15)\n",
    "\n",
    "    df.drop_duplicates(subset='a', inplace=True)\n",
    "    df.columns = [\"trade_id\", \"price\", \"volume\", \"first_id\", \"last_id\", \"timestamp\", \"is_buyer_maker\", \"is_trade_best_price\"]\n",
    "    df.timestamp = list(map(lambda elem: datetime.utcfromtimestamp(elem/1000.0), df.timestamp))\n",
    "    df = df[df.timestamp<=to_date]\n",
    "    print_state(df, from_date, to_date, df.iloc[-1].timestamp, to_date)\n",
    "    df.set_index('timestamp', inplace=True)\n",
    "    \n",
    "    if save:\n",
    "        if not os.path.exists(f'data.nosync/{symbol}'):\n",
    "            os.makedirs(f'data.nosync/{symbol}')\n",
    "        #name = str(f'from_{from_date})_to_{to_date})'.replace(':', '-').replace(' ', '('))\n",
    "        name = str(from_date)[:10]\n",
    "        df.to_hdf(f'data.nosync/{symbol}/{name}.h5', key='s')  \n",
    "    return df"
   ]
  },
  {
   "cell_type": "markdown",
   "metadata": {},
   "source": [
    "### Exemple to read data"
   ]
  },
  {
   "cell_type": "code",
   "execution_count": 6,
   "metadata": {},
   "outputs": [],
   "source": [
    "#pd.read_hdf('data.nosync/BTCUSDT/2020-12-01.h5')"
   ]
  },
  {
   "cell_type": "markdown",
   "metadata": {},
   "source": [
    "### Download 2020 BTCUSDT"
   ]
  },
  {
   "cell_type": "code",
   "execution_count": null,
   "metadata": {},
   "outputs": [
    {
     "name": "stdout",
     "output_type": "stream",
     "text": [
      "somethings wrong....... sleeping for 15s00  • Last date: 2020-12-31 20:43:35.4170000\n",
      "no trade in the range, increase end date15  • Last date: 2021-01-09 23:59:59.84200000\n",
      "no trade in the range, increase end date74  • Last date: 2020-12-30 23:59:59.6510000\n",
      "no trade in the range, increase end date41  • Last date: 2020-12-31 23:59:55.3820000\n",
      "no trade in the range, increase end date42  • Last date: 2021-01-01 23:59:56.3700000\n",
      "•35.74%  • Total nb trades fetched: 78000  • Last date: 2021-01-09 08:34:43.55800000\r"
     ]
    }
   ],
   "source": [
    "#symbols = ['ADAUSDT', 'BTCUSDT', 'BNBUSDT', 'DASHUSDT', 'ETHUSDT', 'LINKUSDT', 'LTCUSDT', 'NANOUSDT', 'THETAUSDT', 'XRPUSDT']\n",
    "symbols = ['ETHUSDT', 'LINKUSDT', 'LTCUSDT', 'NANOUSDT', 'THETAUSDT', 'XRPUSDT']\n",
    "\n",
    "for symbol in symbols:\n",
    "    from_date = datetime(2020, 12, 30, 0, 0)\n",
    "    while from_date<datetime(2021, 1, 10, 0, 0):\n",
    "        to_date = from_date + timedelta(days=1)\n",
    "        fetch_trades(symbol, from_date, to_date, save=True)\n",
    "        from_date = to_date"
   ]
  },
  {
   "cell_type": "code",
   "execution_count": null,
   "metadata": {},
   "outputs": [],
   "source": []
  },
  {
   "cell_type": "code",
   "execution_count": null,
   "metadata": {},
   "outputs": [],
   "source": []
  }
 ],
 "metadata": {
  "kernelspec": {
   "display_name": "Python 3",
   "language": "python",
   "name": "python3"
  },
  "language_info": {
   "codemirror_mode": {
    "name": "ipython",
    "version": 3
   },
   "file_extension": ".py",
   "mimetype": "text/x-python",
   "name": "python",
   "nbconvert_exporter": "python",
   "pygments_lexer": "ipython3",
   "version": "3.8.2"
  }
 },
 "nbformat": 4,
 "nbformat_minor": 4
}
